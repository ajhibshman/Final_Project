{
 "cells": [
  {
   "cell_type": "code",
   "execution_count": 27,
   "metadata": {},
   "outputs": [],
   "source": [
    " %matplotlib inline\n",
    "import matplotlib.pyplot as plt\n",
    "import numpy as np\n",
    "import sklearn\n",
    "import sklearn.datasets\n",
    "import pandas as pd"
   ]
  },
  {
   "cell_type": "code",
   "execution_count": 28,
   "metadata": {},
   "outputs": [
    {
     "data": {
      "text/html": [
       "<div>\n",
       "<style scoped>\n",
       "    .dataframe tbody tr th:only-of-type {\n",
       "        vertical-align: middle;\n",
       "    }\n",
       "\n",
       "    .dataframe tbody tr th {\n",
       "        vertical-align: top;\n",
       "    }\n",
       "\n",
       "    .dataframe thead th {\n",
       "        text-align: right;\n",
       "    }\n",
       "</style>\n",
       "<table border=\"1\" class=\"dataframe\">\n",
       "  <thead>\n",
       "    <tr style=\"text-align: right;\">\n",
       "      <th></th>\n",
       "      <th>Date</th>\n",
       "      <th>Year</th>\n",
       "      <th>DOY</th>\n",
       "      <th>Solar</th>\n",
       "      <th>Wind_speed</th>\n",
       "      <th>Wind_dir</th>\n",
       "      <th>gust</th>\n",
       "      <th>temp</th>\n",
       "      <th>rh</th>\n",
       "      <th>precip</th>\n",
       "      <th>...</th>\n",
       "      <th>Webber Springs</th>\n",
       "      <th>Webster Flat</th>\n",
       "      <th>Whiskey Ck</th>\n",
       "      <th>Whiskey Park</th>\n",
       "      <th>White Elephant</th>\n",
       "      <th>White Mill</th>\n",
       "      <th>Widtsoe #3</th>\n",
       "      <th>Willow Creek</th>\n",
       "      <th>Willow Creek Pass</th>\n",
       "      <th>Windy Peak</th>\n",
       "    </tr>\n",
       "  </thead>\n",
       "  <tbody>\n",
       "    <tr>\n",
       "      <th>0</th>\n",
       "      <td>10/1/2001</td>\n",
       "      <td>2001</td>\n",
       "      <td>274</td>\n",
       "      <td>383.0</td>\n",
       "      <td>2.00</td>\n",
       "      <td>120.0</td>\n",
       "      <td>19.0</td>\n",
       "      <td>47.8</td>\n",
       "      <td>50.0</td>\n",
       "      <td>0.0</td>\n",
       "      <td>...</td>\n",
       "      <td>0.0</td>\n",
       "      <td>0.0</td>\n",
       "      <td>0.0</td>\n",
       "      <td>0.0</td>\n",
       "      <td>0.0</td>\n",
       "      <td>0.0</td>\n",
       "      <td>0.0</td>\n",
       "      <td>0.0</td>\n",
       "      <td>0.1</td>\n",
       "      <td>0.1</td>\n",
       "    </tr>\n",
       "    <tr>\n",
       "      <th>1</th>\n",
       "      <td>10/2/2001</td>\n",
       "      <td>2001</td>\n",
       "      <td>275</td>\n",
       "      <td>478.0</td>\n",
       "      <td>3.83</td>\n",
       "      <td>124.0</td>\n",
       "      <td>27.0</td>\n",
       "      <td>49.0</td>\n",
       "      <td>40.0</td>\n",
       "      <td>0.0</td>\n",
       "      <td>...</td>\n",
       "      <td>0.0</td>\n",
       "      <td>0.0</td>\n",
       "      <td>0.1</td>\n",
       "      <td>0.0</td>\n",
       "      <td>0.0</td>\n",
       "      <td>0.0</td>\n",
       "      <td>0.0</td>\n",
       "      <td>0.0</td>\n",
       "      <td>0.0</td>\n",
       "      <td>0.0</td>\n",
       "    </tr>\n",
       "    <tr>\n",
       "      <th>2</th>\n",
       "      <td>10/3/2001</td>\n",
       "      <td>2001</td>\n",
       "      <td>276</td>\n",
       "      <td>482.0</td>\n",
       "      <td>3.35</td>\n",
       "      <td>60.0</td>\n",
       "      <td>22.0</td>\n",
       "      <td>47.3</td>\n",
       "      <td>37.0</td>\n",
       "      <td>0.0</td>\n",
       "      <td>...</td>\n",
       "      <td>0.0</td>\n",
       "      <td>0.0</td>\n",
       "      <td>0.0</td>\n",
       "      <td>0.0</td>\n",
       "      <td>0.0</td>\n",
       "      <td>0.0</td>\n",
       "      <td>0.0</td>\n",
       "      <td>0.0</td>\n",
       "      <td>0.0</td>\n",
       "      <td>0.0</td>\n",
       "    </tr>\n",
       "    <tr>\n",
       "      <th>3</th>\n",
       "      <td>10/4/2001</td>\n",
       "      <td>2001</td>\n",
       "      <td>277</td>\n",
       "      <td>483.0</td>\n",
       "      <td>5.12</td>\n",
       "      <td>333.0</td>\n",
       "      <td>27.0</td>\n",
       "      <td>47.2</td>\n",
       "      <td>32.0</td>\n",
       "      <td>0.0</td>\n",
       "      <td>...</td>\n",
       "      <td>0.0</td>\n",
       "      <td>0.0</td>\n",
       "      <td>0.0</td>\n",
       "      <td>0.0</td>\n",
       "      <td>0.0</td>\n",
       "      <td>0.0</td>\n",
       "      <td>0.0</td>\n",
       "      <td>0.0</td>\n",
       "      <td>0.0</td>\n",
       "      <td>0.3</td>\n",
       "    </tr>\n",
       "    <tr>\n",
       "      <th>4</th>\n",
       "      <td>10/5/2001</td>\n",
       "      <td>2001</td>\n",
       "      <td>278</td>\n",
       "      <td>482.0</td>\n",
       "      <td>3.46</td>\n",
       "      <td>3.0</td>\n",
       "      <td>24.0</td>\n",
       "      <td>39.2</td>\n",
       "      <td>38.0</td>\n",
       "      <td>0.0</td>\n",
       "      <td>...</td>\n",
       "      <td>0.1</td>\n",
       "      <td>0.0</td>\n",
       "      <td>0.0</td>\n",
       "      <td>0.0</td>\n",
       "      <td>0.0</td>\n",
       "      <td>0.0</td>\n",
       "      <td>0.0</td>\n",
       "      <td>0.0</td>\n",
       "      <td>0.0</td>\n",
       "      <td>0.3</td>\n",
       "    </tr>\n",
       "  </tbody>\n",
       "</table>\n",
       "<p>5 rows × 218 columns</p>\n",
       "</div>"
      ],
      "text/plain": [
       "        Date  Year  DOY  Solar  Wind_speed  Wind_dir  gust  temp    rh  \\\n",
       "0  10/1/2001  2001  274  383.0        2.00     120.0  19.0  47.8  50.0   \n",
       "1  10/2/2001  2001  275  478.0        3.83     124.0  27.0  49.0  40.0   \n",
       "2  10/3/2001  2001  276  482.0        3.35      60.0  22.0  47.3  37.0   \n",
       "3  10/4/2001  2001  277  483.0        5.12     333.0  27.0  47.2  32.0   \n",
       "4  10/5/2001  2001  278  482.0        3.46       3.0  24.0  39.2  38.0   \n",
       "\n",
       "   precip  ...  Webber Springs  Webster Flat  Whiskey Ck  Whiskey Park  \\\n",
       "0     0.0  ...             0.0           0.0         0.0           0.0   \n",
       "1     0.0  ...             0.0           0.0         0.1           0.0   \n",
       "2     0.0  ...             0.0           0.0         0.0           0.0   \n",
       "3     0.0  ...             0.0           0.0         0.0           0.0   \n",
       "4     0.0  ...             0.1           0.0         0.0           0.0   \n",
       "\n",
       "   White Elephant  White Mill  Widtsoe #3  Willow Creek  Willow Creek Pass  \\\n",
       "0             0.0         0.0         0.0           0.0                0.1   \n",
       "1             0.0         0.0         0.0           0.0                0.0   \n",
       "2             0.0         0.0         0.0           0.0                0.0   \n",
       "3             0.0         0.0         0.0           0.0                0.0   \n",
       "4             0.0         0.0         0.0           0.0                0.0   \n",
       "\n",
       "   Windy Peak  \n",
       "0         0.1  \n",
       "1         0.0  \n",
       "2         0.0  \n",
       "3         0.3  \n",
       "4         0.3  \n",
       "\n",
       "[5 rows x 218 columns]"
      ]
     },
     "execution_count": 28,
     "metadata": {},
     "output_type": "execute_result"
    }
   ],
   "source": [
    "df = pd.read_csv('fc1.csv')\n",
    "df.head()"
   ]
  },
  {
   "cell_type": "code",
   "execution_count": 29,
   "metadata": {},
   "outputs": [],
   "source": [
    "\n",
    "\n",
    "y = df[\"binary_1\"]\n",
    "target_names = [\"0\", \"1\"]\n"
   ]
  },
  {
   "cell_type": "code",
   "execution_count": 30,
   "metadata": {},
   "outputs": [],
   "source": [
    "\n",
    "\n",
    "X = df.drop(['binary_1','Date'], axis = 1 )\n",
    "\n",
    "X.fillna(df.mean(), inplace=True)"
   ]
  },
  {
   "cell_type": "code",
   "execution_count": 31,
   "metadata": {},
   "outputs": [
    {
     "data": {
      "text/plain": [
       "(7093, 216)"
      ]
     },
     "execution_count": 31,
     "metadata": {},
     "output_type": "execute_result"
    }
   ],
   "source": [
    "X.shape"
   ]
  },
  {
   "cell_type": "code",
   "execution_count": 32,
   "metadata": {},
   "outputs": [],
   "source": [
    "from sklearn.model_selection import train_test_split\n",
    "from sklearn.preprocessing import LabelEncoder, MinMaxScaler\n",
    "from tensorflow.keras.utils import to_categorical"
   ]
  },
  {
   "cell_type": "code",
   "execution_count": 33,
   "metadata": {},
   "outputs": [],
   "source": [
    "X_train, X_test, y_train, y_test = train_test_split(\n",
    "    X, y, random_state=1)"
   ]
  },
  {
   "cell_type": "code",
   "execution_count": 34,
   "metadata": {},
   "outputs": [],
   "source": [
    "X_scaler = MinMaxScaler().fit(X_train)\n",
    "X_train_scaled = X_scaler.transform(X_train)\n",
    "X_test_scaled = X_scaler.transform(X_test)"
   ]
  },
  {
   "cell_type": "code",
   "execution_count": 35,
   "metadata": {},
   "outputs": [],
   "source": [
    "label_encoder = LabelEncoder()\n",
    "label_encoder.fit(y_train)\n",
    "encoded_y_train = label_encoder.transform(y_train)\n",
    "encoded_y_test = label_encoder.transform(y_test)"
   ]
  },
  {
   "cell_type": "code",
   "execution_count": 36,
   "metadata": {},
   "outputs": [],
   "source": [
    "# Step 2: Convert encoded labels to one-hot-encoding\n",
    "y_train_categorical = to_categorical(encoded_y_train)\n",
    "y_test_categorical = to_categorical(encoded_y_test)"
   ]
  },
  {
   "cell_type": "code",
   "execution_count": 37,
   "metadata": {},
   "outputs": [],
   "source": [
    "from tensorflow.keras.models import Sequential\n",
    "from tensorflow.keras.layers import Dense"
   ]
  },
  {
   "cell_type": "code",
   "execution_count": 41,
   "metadata": {},
   "outputs": [],
   "source": [
    "model = Sequential()\n",
    "model.add(Dense(units=100, activation='relu', input_dim=216))\n",
    "model.add(Dense(units=100, activation='relu'))\n",
    "model.add(Dense(units=2, activation='softmax'))"
   ]
  },
  {
   "cell_type": "code",
   "execution_count": 42,
   "metadata": {},
   "outputs": [],
   "source": [
    "# Compile and fit the model\n",
    "model.compile(optimizer='adam',\n",
    "              loss='categorical_crossentropy',\n",
    "              metrics=['accuracy'])"
   ]
  },
  {
   "cell_type": "code",
   "execution_count": 43,
   "metadata": {},
   "outputs": [
    {
     "name": "stdout",
     "output_type": "stream",
     "text": [
      "Model: \"sequential_5\"\n",
      "_________________________________________________________________\n",
      "Layer (type)                 Output Shape              Param #   \n",
      "=================================================================\n",
      "dense_13 (Dense)             (None, 100)               21700     \n",
      "_________________________________________________________________\n",
      "dense_14 (Dense)             (None, 100)               10100     \n",
      "_________________________________________________________________\n",
      "dense_15 (Dense)             (None, 2)                 202       \n",
      "=================================================================\n",
      "Total params: 32,002\n",
      "Trainable params: 32,002\n",
      "Non-trainable params: 0\n",
      "_________________________________________________________________\n"
     ]
    }
   ],
   "source": [
    "model.summary()"
   ]
  },
  {
   "cell_type": "code",
   "execution_count": 44,
   "metadata": {},
   "outputs": [
    {
     "name": "stdout",
     "output_type": "stream",
     "text": [
      "Train on 5319 samples\n",
      "Epoch 1/60\n",
      "5319/5319 - 2s - loss: 0.5762 - accuracy: 0.7033\n",
      "Epoch 2/60\n",
      "5319/5319 - 0s - loss: 0.5477 - accuracy: 0.7248\n",
      "Epoch 3/60\n",
      "5319/5319 - 0s - loss: 0.5373 - accuracy: 0.7293\n",
      "Epoch 4/60\n",
      "5319/5319 - 0s - loss: 0.5248 - accuracy: 0.7377\n",
      "Epoch 5/60\n",
      "5319/5319 - 0s - loss: 0.5144 - accuracy: 0.7481\n",
      "Epoch 6/60\n",
      "5319/5319 - 0s - loss: 0.4991 - accuracy: 0.7541\n",
      "Epoch 7/60\n",
      "5319/5319 - 0s - loss: 0.4889 - accuracy: 0.7661\n",
      "Epoch 8/60\n",
      "5319/5319 - 0s - loss: 0.4660 - accuracy: 0.7793\n",
      "Epoch 9/60\n",
      "5319/5319 - 0s - loss: 0.4453 - accuracy: 0.7928\n",
      "Epoch 10/60\n",
      "5319/5319 - 1s - loss: 0.4188 - accuracy: 0.8118\n",
      "Epoch 11/60\n",
      "5319/5319 - 0s - loss: 0.3987 - accuracy: 0.8203\n",
      "Epoch 12/60\n",
      "5319/5319 - 0s - loss: 0.3671 - accuracy: 0.8398\n",
      "Epoch 13/60\n",
      "5319/5319 - 1s - loss: 0.3369 - accuracy: 0.8614\n",
      "Epoch 14/60\n",
      "5319/5319 - 0s - loss: 0.3144 - accuracy: 0.8738\n",
      "Epoch 15/60\n",
      "5319/5319 - 1s - loss: 0.2777 - accuracy: 0.8902\n",
      "Epoch 16/60\n",
      "5319/5319 - 1s - loss: 0.2550 - accuracy: 0.9056\n",
      "Epoch 17/60\n",
      "5319/5319 - 0s - loss: 0.2301 - accuracy: 0.9137\n",
      "Epoch 18/60\n",
      "5319/5319 - 1s - loss: 0.2104 - accuracy: 0.9233\n",
      "Epoch 19/60\n",
      "5319/5319 - 0s - loss: 0.1754 - accuracy: 0.9357\n",
      "Epoch 20/60\n",
      "5319/5319 - 1s - loss: 0.1644 - accuracy: 0.9402\n",
      "Epoch 21/60\n",
      "5319/5319 - 0s - loss: 0.1418 - accuracy: 0.9522\n",
      "Epoch 22/60\n",
      "5319/5319 - 0s - loss: 0.1266 - accuracy: 0.9588\n",
      "Epoch 23/60\n",
      "5319/5319 - 0s - loss: 0.1319 - accuracy: 0.9554\n",
      "Epoch 24/60\n",
      "5319/5319 - 0s - loss: 0.1063 - accuracy: 0.9656\n",
      "Epoch 25/60\n",
      "5319/5319 - 0s - loss: 0.0927 - accuracy: 0.9724\n",
      "Epoch 26/60\n",
      "5319/5319 - 0s - loss: 0.0728 - accuracy: 0.9803\n",
      "Epoch 27/60\n",
      "5319/5319 - 0s - loss: 0.0712 - accuracy: 0.9808\n",
      "Epoch 28/60\n",
      "5319/5319 - 0s - loss: 0.0753 - accuracy: 0.9778\n",
      "Epoch 29/60\n",
      "5319/5319 - 0s - loss: 0.0687 - accuracy: 0.9806\n",
      "Epoch 30/60\n",
      "5319/5319 - 0s - loss: 0.0752 - accuracy: 0.9756\n",
      "Epoch 31/60\n",
      "5319/5319 - 0s - loss: 0.0488 - accuracy: 0.9867\n",
      "Epoch 32/60\n",
      "5319/5319 - 0s - loss: 0.0821 - accuracy: 0.9746\n",
      "Epoch 33/60\n",
      "5319/5319 - 0s - loss: 0.0496 - accuracy: 0.9870\n",
      "Epoch 34/60\n",
      "5319/5319 - 0s - loss: 0.0294 - accuracy: 0.9942\n",
      "Epoch 35/60\n",
      "5319/5319 - 0s - loss: 0.0253 - accuracy: 0.9945\n",
      "Epoch 36/60\n",
      "5319/5319 - 0s - loss: 0.0228 - accuracy: 0.9955\n",
      "Epoch 37/60\n",
      "5319/5319 - 0s - loss: 0.0180 - accuracy: 0.9972\n",
      "Epoch 38/60\n",
      "5319/5319 - 0s - loss: 0.0164 - accuracy: 0.9972\n",
      "Epoch 39/60\n",
      "5319/5319 - 0s - loss: 0.0154 - accuracy: 0.9976\n",
      "Epoch 40/60\n",
      "5319/5319 - 0s - loss: 0.0141 - accuracy: 0.9976\n",
      "Epoch 41/60\n",
      "5319/5319 - 0s - loss: 0.0343 - accuracy: 0.9893\n",
      "Epoch 42/60\n",
      "5319/5319 - 0s - loss: 0.1163 - accuracy: 0.9628\n",
      "Epoch 43/60\n",
      "5319/5319 - 0s - loss: 0.0587 - accuracy: 0.9804\n",
      "Epoch 44/60\n",
      "5319/5319 - 0s - loss: 0.0262 - accuracy: 0.9936\n",
      "Epoch 45/60\n",
      "5319/5319 - 0s - loss: 0.0365 - accuracy: 0.9882\n",
      "Epoch 46/60\n",
      "5319/5319 - 0s - loss: 0.0222 - accuracy: 0.9930\n",
      "Epoch 47/60\n",
      "5319/5319 - 0s - loss: 0.0115 - accuracy: 0.9962\n",
      "Epoch 48/60\n",
      "5319/5319 - 0s - loss: 0.0102 - accuracy: 0.9979\n",
      "Epoch 49/60\n",
      "5319/5319 - 0s - loss: 0.0070 - accuracy: 0.9992\n",
      "Epoch 50/60\n",
      "5319/5319 - 0s - loss: 0.0062 - accuracy: 0.9987\n",
      "Epoch 51/60\n",
      "5319/5319 - 0s - loss: 0.0044 - accuracy: 0.9992\n",
      "Epoch 52/60\n",
      "5319/5319 - 0s - loss: 0.0359 - accuracy: 0.9865\n",
      "Epoch 53/60\n",
      "5319/5319 - 0s - loss: 0.0873 - accuracy: 0.9690\n",
      "Epoch 54/60\n",
      "5319/5319 - 0s - loss: 0.0198 - accuracy: 0.9938\n",
      "Epoch 55/60\n",
      "5319/5319 - 0s - loss: 0.0149 - accuracy: 0.9966\n",
      "Epoch 56/60\n",
      "5319/5319 - 0s - loss: 0.0044 - accuracy: 0.9998\n",
      "Epoch 57/60\n",
      "5319/5319 - 0s - loss: 0.0036 - accuracy: 0.9994\n",
      "Epoch 58/60\n",
      "5319/5319 - 0s - loss: 0.0022 - accuracy: 1.0000\n",
      "Epoch 59/60\n",
      "5319/5319 - 0s - loss: 0.0020 - accuracy: 1.0000\n",
      "Epoch 60/60\n",
      "5319/5319 - 0s - loss: 0.0017 - accuracy: 1.0000\n"
     ]
    },
    {
     "data": {
      "text/plain": [
       "<tensorflow.python.keras.callbacks.History at 0x14c80c4e438>"
      ]
     },
     "execution_count": 44,
     "metadata": {},
     "output_type": "execute_result"
    }
   ],
   "source": [
    "model.fit(\n",
    "    X_train_scaled,\n",
    "    y_train_categorical,\n",
    "    epochs=60,\n",
    "    shuffle=True,\n",
    "    verbose=2\n",
    ")"
   ]
  },
  {
   "cell_type": "code",
   "execution_count": 45,
   "metadata": {},
   "outputs": [
    {
     "name": "stdout",
     "output_type": "stream",
     "text": [
      "1774/1774 - 0s - loss: 2.7668 - accuracy: 0.6731\n",
      "Normal Neural Network - Loss: 2.7667932781855984, Accuracy: 0.6730552315711975\n"
     ]
    }
   ],
   "source": [
    " model_loss, model_accuracy = model.evaluate(\n",
    "    X_test_scaled, y_test_categorical, verbose=2)\n",
    "print(\n",
    "    f\"Normal Neural Network - Loss: {model_loss}, Accuracy: {model_accuracy}\")"
   ]
  },
  {
   "cell_type": "code",
   "execution_count": 46,
   "metadata": {},
   "outputs": [],
   "source": [
    "encoded_predictions = model.predict_classes(X_test_scaled[:5])\n",
    "prediction_labels = label_encoder.inverse_transform(encoded_predictions)"
   ]
  },
  {
   "cell_type": "code",
   "execution_count": 47,
   "metadata": {},
   "outputs": [
    {
     "name": "stdout",
     "output_type": "stream",
     "text": [
      "Predicted classes: [0 0 0 1 1]\n",
      "Actual Labels: [1, 0, 0, 0, 1]\n"
     ]
    }
   ],
   "source": [
    "print(f\"Predicted classes: {prediction_labels}\")\n",
    "print(f\"Actual Labels: {list(y_test[:5])}\")"
   ]
  },
  {
   "cell_type": "code",
   "execution_count": 48,
   "metadata": {},
   "outputs": [],
   "source": [
    "predictions= model.predict_classes(X)"
   ]
  },
  {
   "cell_type": "code",
   "execution_count": 49,
   "metadata": {},
   "outputs": [
    {
     "data": {
      "text/plain": [
       "array([0, 0, 0, ..., 0, 0, 0], dtype=int64)"
      ]
     },
     "execution_count": 49,
     "metadata": {},
     "output_type": "execute_result"
    }
   ],
   "source": [
    "predictions"
   ]
  },
  {
   "cell_type": "code",
   "execution_count": 50,
   "metadata": {},
   "outputs": [],
   "source": [
    "prob=model.predict_proba(X)"
   ]
  },
  {
   "cell_type": "code",
   "execution_count": 51,
   "metadata": {},
   "outputs": [
    {
     "data": {
      "text/plain": [
       "array([[1., 0.],\n",
       "       [1., 0.],\n",
       "       [1., 0.],\n",
       "       ...,\n",
       "       [1., 0.],\n",
       "       [1., 0.],\n",
       "       [1., 0.]], dtype=float32)"
      ]
     },
     "execution_count": 51,
     "metadata": {},
     "output_type": "execute_result"
    }
   ],
   "source": [
    "prob"
   ]
  },
  {
   "cell_type": "code",
   "execution_count": null,
   "metadata": {},
   "outputs": [],
   "source": []
  }
 ],
 "metadata": {
  "kernelspec": {
   "display_name": "Python [conda env:pythondata] *",
   "language": "python",
   "name": "conda-env-pythondata-py"
  },
  "language_info": {
   "codemirror_mode": {
    "name": "ipython",
    "version": 3
   },
   "file_extension": ".py",
   "mimetype": "text/x-python",
   "name": "python",
   "nbconvert_exporter": "python",
   "pygments_lexer": "ipython3",
   "version": "3.7.1"
  }
 },
 "nbformat": 4,
 "nbformat_minor": 4
}
