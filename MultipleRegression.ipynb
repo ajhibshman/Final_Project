{
 "cells": [
  {
   "cell_type": "code",
   "execution_count": 31,
   "metadata": {},
   "outputs": [],
   "source": [
    "%matplotlib inline\n",
    "import matplotlib.pyplot as plt\n",
    "import numpy as np\n",
    "import pandas as pd"
   ]
  },
  {
   "cell_type": "code",
   "execution_count": 32,
   "metadata": {},
   "outputs": [
    {
     "data": {
      "text/plain": [
       "Date                  object\n",
       "Year                   int64\n",
       "DOY                    int64\n",
       "Solar                float64\n",
       "Wind_speed           float64\n",
       "                      ...   \n",
       "White Mill           float64\n",
       "Widtsoe #3           float64\n",
       "Willow Creek         float64\n",
       "Willow Creek Pass    float64\n",
       "Windy Peak           float64\n",
       "Length: 218, dtype: object"
      ]
     },
     "execution_count": 32,
     "metadata": {},
     "output_type": "execute_result"
    }
   ],
   "source": [
    "data = pd.read_csv('fc1.csv')\n",
    "data.dtypes"
   ]
  },
  {
   "cell_type": "code",
   "execution_count": 38,
   "metadata": {},
   "outputs": [
    {
     "data": {
      "text/html": [
       "<div>\n",
       "<style scoped>\n",
       "    .dataframe tbody tr th:only-of-type {\n",
       "        vertical-align: middle;\n",
       "    }\n",
       "\n",
       "    .dataframe tbody tr th {\n",
       "        vertical-align: top;\n",
       "    }\n",
       "\n",
       "    .dataframe thead th {\n",
       "        text-align: right;\n",
       "    }\n",
       "</style>\n",
       "<table border=\"1\" class=\"dataframe\">\n",
       "  <thead>\n",
       "    <tr style=\"text-align: right;\">\n",
       "      <th></th>\n",
       "      <th>Date</th>\n",
       "      <th>Year</th>\n",
       "      <th>DOY</th>\n",
       "      <th>Solar</th>\n",
       "      <th>Wind_speed</th>\n",
       "      <th>Wind_dir</th>\n",
       "      <th>gust</th>\n",
       "      <th>temp</th>\n",
       "      <th>rh</th>\n",
       "      <th>precip</th>\n",
       "      <th>...</th>\n",
       "      <th>Webber Springs</th>\n",
       "      <th>Webster Flat</th>\n",
       "      <th>Whiskey Ck</th>\n",
       "      <th>Whiskey Park</th>\n",
       "      <th>White Elephant</th>\n",
       "      <th>White Mill</th>\n",
       "      <th>Widtsoe #3</th>\n",
       "      <th>Willow Creek</th>\n",
       "      <th>Willow Creek Pass</th>\n",
       "      <th>Windy Peak</th>\n",
       "    </tr>\n",
       "  </thead>\n",
       "  <tbody>\n",
       "    <tr>\n",
       "      <th>7088</th>\n",
       "      <td>2/26/2021</td>\n",
       "      <td>2021</td>\n",
       "      <td>57</td>\n",
       "      <td>431.0</td>\n",
       "      <td>7.21</td>\n",
       "      <td>287.0</td>\n",
       "      <td>53.0</td>\n",
       "      <td>19.8</td>\n",
       "      <td>42.0</td>\n",
       "      <td>0.00</td>\n",
       "      <td>...</td>\n",
       "      <td>0.5</td>\n",
       "      <td>0.0</td>\n",
       "      <td>0.0</td>\n",
       "      <td>0.6</td>\n",
       "      <td>0.7</td>\n",
       "      <td>0.2</td>\n",
       "      <td>0.0</td>\n",
       "      <td>0.6</td>\n",
       "      <td>0.0</td>\n",
       "      <td>0.0</td>\n",
       "    </tr>\n",
       "    <tr>\n",
       "      <th>7089</th>\n",
       "      <td>2/27/2021</td>\n",
       "      <td>2021</td>\n",
       "      <td>58</td>\n",
       "      <td>210.0</td>\n",
       "      <td>4.12</td>\n",
       "      <td>346.0</td>\n",
       "      <td>24.0</td>\n",
       "      <td>11.8</td>\n",
       "      <td>70.0</td>\n",
       "      <td>0.00</td>\n",
       "      <td>...</td>\n",
       "      <td>0.2</td>\n",
       "      <td>0.0</td>\n",
       "      <td>0.0</td>\n",
       "      <td>0.3</td>\n",
       "      <td>0.1</td>\n",
       "      <td>0.0</td>\n",
       "      <td>0.0</td>\n",
       "      <td>0.5</td>\n",
       "      <td>0.3</td>\n",
       "      <td>0.1</td>\n",
       "    </tr>\n",
       "    <tr>\n",
       "      <th>7090</th>\n",
       "      <td>2/28/2021</td>\n",
       "      <td>2021</td>\n",
       "      <td>59</td>\n",
       "      <td>493.0</td>\n",
       "      <td>3.08</td>\n",
       "      <td>59.0</td>\n",
       "      <td>15.0</td>\n",
       "      <td>5.8</td>\n",
       "      <td>56.0</td>\n",
       "      <td>0.01</td>\n",
       "      <td>...</td>\n",
       "      <td>0.0</td>\n",
       "      <td>0.0</td>\n",
       "      <td>0.2</td>\n",
       "      <td>0.0</td>\n",
       "      <td>0.0</td>\n",
       "      <td>0.0</td>\n",
       "      <td>0.0</td>\n",
       "      <td>0.1</td>\n",
       "      <td>0.0</td>\n",
       "      <td>0.0</td>\n",
       "    </tr>\n",
       "    <tr>\n",
       "      <th>7091</th>\n",
       "      <td>3/1/2021</td>\n",
       "      <td>2021</td>\n",
       "      <td>60</td>\n",
       "      <td>510.0</td>\n",
       "      <td>2.67</td>\n",
       "      <td>148.0</td>\n",
       "      <td>12.0</td>\n",
       "      <td>16.4</td>\n",
       "      <td>54.0</td>\n",
       "      <td>0.00</td>\n",
       "      <td>...</td>\n",
       "      <td>0.1</td>\n",
       "      <td>0.3</td>\n",
       "      <td>0.3</td>\n",
       "      <td>0.1</td>\n",
       "      <td>0.0</td>\n",
       "      <td>0.2</td>\n",
       "      <td>0.1</td>\n",
       "      <td>0.1</td>\n",
       "      <td>0.1</td>\n",
       "      <td>0.2</td>\n",
       "    </tr>\n",
       "    <tr>\n",
       "      <th>7092</th>\n",
       "      <td>3/2/2021</td>\n",
       "      <td>2021</td>\n",
       "      <td>61</td>\n",
       "      <td>518.0</td>\n",
       "      <td>3.00</td>\n",
       "      <td>54.0</td>\n",
       "      <td>14.0</td>\n",
       "      <td>25.1</td>\n",
       "      <td>47.0</td>\n",
       "      <td>0.00</td>\n",
       "      <td>...</td>\n",
       "      <td>0.1</td>\n",
       "      <td>0.1</td>\n",
       "      <td>0.0</td>\n",
       "      <td>0.1</td>\n",
       "      <td>0.0</td>\n",
       "      <td>0.0</td>\n",
       "      <td>0.0</td>\n",
       "      <td>0.1</td>\n",
       "      <td>0.1</td>\n",
       "      <td>0.1</td>\n",
       "    </tr>\n",
       "  </tbody>\n",
       "</table>\n",
       "<p>5 rows × 218 columns</p>\n",
       "</div>"
      ],
      "text/plain": [
       "           Date  Year  DOY  Solar  Wind_speed  Wind_dir  gust  temp    rh  \\\n",
       "7088  2/26/2021  2021   57  431.0        7.21     287.0  53.0  19.8  42.0   \n",
       "7089  2/27/2021  2021   58  210.0        4.12     346.0  24.0  11.8  70.0   \n",
       "7090  2/28/2021  2021   59  493.0        3.08      59.0  15.0   5.8  56.0   \n",
       "7091   3/1/2021  2021   60  510.0        2.67     148.0  12.0  16.4  54.0   \n",
       "7092   3/2/2021  2021   61  518.0        3.00      54.0  14.0  25.1  47.0   \n",
       "\n",
       "      precip  ...  Webber Springs  Webster Flat  Whiskey Ck  Whiskey Park  \\\n",
       "7088    0.00  ...             0.5           0.0         0.0           0.6   \n",
       "7089    0.00  ...             0.2           0.0         0.0           0.3   \n",
       "7090    0.01  ...             0.0           0.0         0.2           0.0   \n",
       "7091    0.00  ...             0.1           0.3         0.3           0.1   \n",
       "7092    0.00  ...             0.1           0.1         0.0           0.1   \n",
       "\n",
       "      White Elephant  White Mill  Widtsoe #3  Willow Creek  Willow Creek Pass  \\\n",
       "7088             0.7         0.2         0.0           0.6                0.0   \n",
       "7089             0.1         0.0         0.0           0.5                0.3   \n",
       "7090             0.0         0.0         0.0           0.1                0.0   \n",
       "7091             0.0         0.2         0.1           0.1                0.1   \n",
       "7092             0.0         0.0         0.0           0.1                0.1   \n",
       "\n",
       "      Windy Peak  \n",
       "7088         0.0  \n",
       "7089         0.1  \n",
       "7090         0.0  \n",
       "7091         0.2  \n",
       "7092         0.1  \n",
       "\n",
       "[5 rows x 218 columns]"
      ]
     },
     "execution_count": 38,
     "metadata": {},
     "output_type": "execute_result"
    }
   ],
   "source": [
    "data.tail()"
   ]
  },
  {
   "cell_type": "code",
   "execution_count": 34,
   "metadata": {},
   "outputs": [
    {
     "name": "stdout",
     "output_type": "stream",
     "text": [
      "(7093, 216) (7093, 1)\n"
     ]
    }
   ],
   "source": [
    "X = data.drop(['binary_1','Date'], axis = 1 )\n",
    "X.fillna(data.mean(), inplace=True)\n",
    "y = data[\"binary_1\"].values.reshape(-1, 1)\n",
    "print(X.shape, y.shape)"
   ]
  },
  {
   "cell_type": "code",
   "execution_count": 35,
   "metadata": {},
   "outputs": [],
   "source": [
    "# Use train_test_split to create training and testing data\n",
    "\n",
    "from sklearn.model_selection import train_test_split\n",
    "\n",
    "X_train, X_test, y_train, y_test = train_test_split(X, y, random_state=42)\n",
    "\n"
   ]
  },
  {
   "cell_type": "code",
   "execution_count": 36,
   "metadata": {},
   "outputs": [],
   "source": [
    "# Create the model using LinearRegression\n",
    "\n",
    "from sklearn.linear_model import LinearRegression\n",
    "model = LinearRegression()\n"
   ]
  },
  {
   "cell_type": "code",
   "execution_count": 37,
   "metadata": {},
   "outputs": [
    {
     "name": "stdout",
     "output_type": "stream",
     "text": [
      "Training Score: 0.250600276750503\n",
      "Testing Score: 0.22207642907326253\n"
     ]
    }
   ],
   "source": [
    "# Fit the model to the training data and calculate the scores for the training and testing data\n",
    "\n",
    "\n",
    "model.fit(X_train, y_train)\n",
    "training_score = model.score(X_train, y_train)\n",
    "testing_score = model.score(X_test, y_test)\n",
    "\n",
    "\n",
    "\n",
    "print(f\"Training Score: {training_score}\")\n",
    "print(f\"Testing Score: {testing_score}\")"
   ]
  },
  {
   "cell_type": "code",
   "execution_count": 29,
   "metadata": {},
   "outputs": [],
   "source": [
    "predictions = model.predict(X)"
   ]
  },
  {
   "cell_type": "code",
   "execution_count": 30,
   "metadata": {},
   "outputs": [
    {
     "data": {
      "text/plain": [
       "array([[0.26775178],\n",
       "       [0.20403539],\n",
       "       [0.21723841],\n",
       "       ...,\n",
       "       [0.56561681],\n",
       "       [0.45867511],\n",
       "       [0.33789988]])"
      ]
     },
     "execution_count": 30,
     "metadata": {},
     "output_type": "execute_result"
    }
   ],
   "source": [
    "predictions"
   ]
  },
  {
   "cell_type": "code",
   "execution_count": null,
   "metadata": {},
   "outputs": [],
   "source": []
  }
 ],
 "metadata": {
  "kernelspec": {
   "display_name": "Python [conda env:pythondata] *",
   "language": "python",
   "name": "conda-env-pythondata-py"
  },
  "language_info": {
   "codemirror_mode": {
    "name": "ipython",
    "version": 3
   },
   "file_extension": ".py",
   "mimetype": "text/x-python",
   "name": "python",
   "nbconvert_exporter": "python",
   "pygments_lexer": "ipython3",
   "version": "3.7.1"
  }
 },
 "nbformat": 4,
 "nbformat_minor": 4
}
